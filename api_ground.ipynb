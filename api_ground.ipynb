{
 "cells": [
  {
   "cell_type": "markdown",
   "metadata": {},
   "source": [
    "# Walk Score API"
   ]
  },
  {
   "cell_type": "markdown",
   "metadata": {},
   "source": [
    "cd <localdir>\n",
    "git init\n",
    "git add .\n",
    "git commit -m 'message'\n",
    "git remote add origin <url>\n",
    "git push -u origin master"
   ]
  },
  {
   "cell_type": "markdown",
   "metadata": {},
   "source": [
    "Example request:\n",
    "\n",
    "```python\n",
    "response = get_walkscore(address='1119 8th Avenue Seattle WA 98101',lat='47.6085',lon='-122.3295')\n",
    "response.json()\n",
    "```"
   ]
  },
  {
   "cell_type": "markdown",
   "metadata": {},
   "source": [
    "Example output:\n",
    "\n",
    "```python\n",
    "{'status': 1,\n",
    " 'walkscore': 99,\n",
    " 'description': \"Walker's Paradise\",\n",
    " 'updated': '2020-11-18 19:42:23.803841',\n",
    " 'logo_url': 'https://cdn.walk.sc/images/api-logo.png',\n",
    " 'more_info_icon': 'https://cdn.walk.sc/images/api-more-info.gif',\n",
    " 'more_info_link': 'https://www.redfin.com/how-walk-score-works',\n",
    " 'ws_link': 'https://www.walkscore.com/score/1119-208th-20Avenue-20Seattle-20WA-2098101/lat=47.6085/lng=-122.3295/?utm_source=peti.work&utm_medium=ws_api&utm_campaign=ws_api',\n",
    " 'help_link': 'https://www.redfin.com/how-walk-score-works',\n",
    " 'snapped_lat': 47.6085,\n",
    " 'snapped_lon': -122.3295}\n",
    "```"
   ]
  },
  {
   "cell_type": "code",
   "execution_count": 1,
   "metadata": {},
   "outputs": [],
   "source": [
    "import requests as r\n",
    "def get_walkscore(lat, lon, address):\n",
    "    api_key = \"18462ed72359fe80c186f0796f512165\"\n",
    "    url = \"https://api.walkscore.com/score?format=json\"\n",
    "    addie = address.replace(\" \", \"%20\")\n",
    "    params = {\n",
    "        'address':addie,\n",
    "        'lat':lat,\n",
    "        'lon':lon,\n",
    "        'wsapikey':api_key\n",
    "    }\n",
    "    response = r.get(url=url,params=params)\n",
    "    return response"
   ]
  },
  {
   "cell_type": "code",
   "execution_count": null,
   "metadata": {},
   "outputs": [],
   "source": []
  },
  {
   "cell_type": "code",
   "execution_count": 13,
   "metadata": {},
   "outputs": [],
   "source": [
    "response = get_walkscore(address='1119 8th Avenue Seattle WA 98101',lat='47.6085',lon='-122.3295')"
   ]
  },
  {
   "cell_type": "code",
   "execution_count": 14,
   "metadata": {},
   "outputs": [
    {
     "data": {
      "text/plain": [
       "{'status': 1,\n",
       " 'walkscore': 99,\n",
       " 'description': \"Walker's Paradise\",\n",
       " 'updated': '2020-11-18 19:42:23.803841',\n",
       " 'logo_url': 'https://cdn.walk.sc/images/api-logo.png',\n",
       " 'more_info_icon': 'https://cdn.walk.sc/images/api-more-info.gif',\n",
       " 'more_info_link': 'https://www.redfin.com/how-walk-score-works',\n",
       " 'ws_link': 'https://www.walkscore.com/score/1119-208th-20Avenue-20Seattle-20WA-2098101/lat=47.6085/lng=-122.3295/?utm_source=peti.work&utm_medium=ws_api&utm_campaign=ws_api',\n",
       " 'help_link': 'https://www.redfin.com/how-walk-score-works',\n",
       " 'snapped_lat': 47.6085,\n",
       " 'snapped_lon': -122.3295}"
      ]
     },
     "execution_count": 14,
     "metadata": {},
     "output_type": "execute_result"
    }
   ],
   "source": [
    "response.json()"
   ]
  },
  {
   "cell_type": "code",
   "execution_count": 17,
   "metadata": {},
   "outputs": [],
   "source": [
    "import pandas as pd"
   ]
  },
  {
   "cell_type": "code",
   "execution_count": 22,
   "metadata": {},
   "outputs": [],
   "source": [
    "df = pd.read_html('walkscore.html')[0]"
   ]
  },
  {
   "cell_type": "code",
   "execution_count": 23,
   "metadata": {},
   "outputs": [
    {
     "data": {
      "text/html": [
       "<div>\n",
       "<style scoped>\n",
       "    .dataframe tbody tr th:only-of-type {\n",
       "        vertical-align: middle;\n",
       "    }\n",
       "\n",
       "    .dataframe tbody tr th {\n",
       "        vertical-align: top;\n",
       "    }\n",
       "\n",
       "    .dataframe thead th {\n",
       "        text-align: right;\n",
       "    }\n",
       "</style>\n",
       "<table border=\"1\" class=\"dataframe\">\n",
       "  <thead>\n",
       "    <tr style=\"text-align: right;\">\n",
       "      <th></th>\n",
       "      <th>City</th>\n",
       "      <th>State</th>\n",
       "      <th>Walk Score</th>\n",
       "      <th>Transit Score</th>\n",
       "      <th>Bike Score</th>\n",
       "      <th>Population</th>\n",
       "    </tr>\n",
       "  </thead>\n",
       "  <tbody>\n",
       "    <tr>\n",
       "      <th>0</th>\n",
       "      <td>New York</td>\n",
       "      <td>NY</td>\n",
       "      <td>88.3</td>\n",
       "      <td>84.3</td>\n",
       "      <td>70.0</td>\n",
       "      <td>8175133</td>\n",
       "    </tr>\n",
       "    <tr>\n",
       "      <th>1</th>\n",
       "      <td>San Francisco</td>\n",
       "      <td>CA</td>\n",
       "      <td>87.4</td>\n",
       "      <td>80.3</td>\n",
       "      <td>72.2</td>\n",
       "      <td>805235</td>\n",
       "    </tr>\n",
       "    <tr>\n",
       "      <th>2</th>\n",
       "      <td>Jersey City</td>\n",
       "      <td>NJ</td>\n",
       "      <td>86.8</td>\n",
       "      <td>70.6</td>\n",
       "      <td>70.3</td>\n",
       "      <td>247597</td>\n",
       "    </tr>\n",
       "    <tr>\n",
       "      <th>3</th>\n",
       "      <td>Boston</td>\n",
       "      <td>MA</td>\n",
       "      <td>82.0</td>\n",
       "      <td>72.5</td>\n",
       "      <td>70.5</td>\n",
       "      <td>617594</td>\n",
       "    </tr>\n",
       "    <tr>\n",
       "      <th>4</th>\n",
       "      <td>Philadelphia</td>\n",
       "      <td>PA</td>\n",
       "      <td>78.8</td>\n",
       "      <td>66.8</td>\n",
       "      <td>67.4</td>\n",
       "      <td>1526006</td>\n",
       "    </tr>\n",
       "    <tr>\n",
       "      <th>...</th>\n",
       "      <td>...</td>\n",
       "      <td>...</td>\n",
       "      <td>...</td>\n",
       "      <td>...</td>\n",
       "      <td>...</td>\n",
       "      <td>...</td>\n",
       "    </tr>\n",
       "    <tr>\n",
       "      <th>103</th>\n",
       "      <td>Montgomery</td>\n",
       "      <td>AL</td>\n",
       "      <td>26.1</td>\n",
       "      <td>16.4</td>\n",
       "      <td>38.3</td>\n",
       "      <td>205764</td>\n",
       "    </tr>\n",
       "    <tr>\n",
       "      <th>104</th>\n",
       "      <td>Jacksonville</td>\n",
       "      <td>FL</td>\n",
       "      <td>25.7</td>\n",
       "      <td>23.0</td>\n",
       "      <td>42.7</td>\n",
       "      <td>821784</td>\n",
       "    </tr>\n",
       "    <tr>\n",
       "      <th>105</th>\n",
       "      <td>Winston-Salem</td>\n",
       "      <td>NC</td>\n",
       "      <td>23.4</td>\n",
       "      <td>--</td>\n",
       "      <td>29.2</td>\n",
       "      <td>229617</td>\n",
       "    </tr>\n",
       "    <tr>\n",
       "      <th>106</th>\n",
       "      <td>Fayetteville</td>\n",
       "      <td>NC</td>\n",
       "      <td>21.4</td>\n",
       "      <td>--</td>\n",
       "      <td>33.2</td>\n",
       "      <td>200564</td>\n",
       "    </tr>\n",
       "    <tr>\n",
       "      <th>107</th>\n",
       "      <td>Chesapeake</td>\n",
       "      <td>VA</td>\n",
       "      <td>21.0</td>\n",
       "      <td>13.2</td>\n",
       "      <td>40.3</td>\n",
       "      <td>222209</td>\n",
       "    </tr>\n",
       "  </tbody>\n",
       "</table>\n",
       "<p>108 rows × 6 columns</p>\n",
       "</div>"
      ],
      "text/plain": [
       "              City State  Walk Score Transit Score  Bike Score  Population\n",
       "0         New York    NY        88.3          84.3        70.0     8175133\n",
       "1    San Francisco    CA        87.4          80.3        72.2      805235\n",
       "2      Jersey City    NJ        86.8          70.6        70.3      247597\n",
       "3           Boston    MA        82.0          72.5        70.5      617594\n",
       "4     Philadelphia    PA        78.8          66.8        67.4     1526006\n",
       "..             ...   ...         ...           ...         ...         ...\n",
       "103     Montgomery    AL        26.1          16.4        38.3      205764\n",
       "104   Jacksonville    FL        25.7          23.0        42.7      821784\n",
       "105  Winston-Salem    NC        23.4            --        29.2      229617\n",
       "106   Fayetteville    NC        21.4            --        33.2      200564\n",
       "107     Chesapeake    VA        21.0          13.2        40.3      222209\n",
       "\n",
       "[108 rows x 6 columns]"
      ]
     },
     "execution_count": 23,
     "metadata": {},
     "output_type": "execute_result"
    }
   ],
   "source": [
    "df"
   ]
  },
  {
   "cell_type": "markdown",
   "metadata": {},
   "source": [
    "# Weather API"
   ]
  },
  {
   "cell_type": "markdown",
   "metadata": {},
   "source": [
    "weatherapi.com"
   ]
  },
  {
   "cell_type": "markdown",
   "metadata": {},
   "source": [
    "```python\n",
    "## Adding hours or minutes or seconds to datetime\n",
    "from datetime import datetime, timedelta\n",
    " \n",
    "## Original datetime\n",
    "datetime_original = datetime(year=2006, month=11, day=23)\n",
    "print(\"\\nOriginal date: \", datetime_original, \"\\n\")\n",
    " \n",
    "## Adding Hours\n",
    "hours_to_add = 12\n",
    "datetime_new = datetime_original + timedelta(hours = hours_to_add)\n",
    "print(\"After adding hours: \", datetime_new, \"\\n\")\n",
    " \n",
    "## Adding Minutes\n",
    "minutes_to_add = 45\n",
    "datetime_new = datetime_new + timedelta(minutes = minutes_to_add)\n",
    "print(\"After adding minutes: \", datetime_new, \"\\n\")\n",
    " \n",
    "## Adding Seconds\n",
    "seconds_to_add = 33\n",
    "datetime_new = datetime_new + timedelta(seconds = seconds_to_add)\n",
    "print(\"After adding seconds: \", datetime_new, \"\\n\")\n",
    " \n",
    "## Adding Microseconds\n",
    "microseconds_to_add = 12345\n",
    "datetime_new = datetime_new + timedelta(microseconds = microseconds_to_add)\n",
    "print(\"After adding microseconds: \", datetime_new, \"\\n\")\n",
    "```"
   ]
  },
  {
   "cell_type": "code",
   "execution_count": 178,
   "metadata": {},
   "outputs": [],
   "source": [
    "import requests as r\n",
    "import numpy as np\n",
    "import datetime as dt\n",
    "\n",
    "class weatherAnalysis():\n",
    "    def __init__(self, location, type_='future'):\n",
    "        '''\n",
    "        Initiates weather api\n",
    "        \n",
    "        input\n",
    "        ----\n",
    "        location: str\n",
    "            Zip code, ip address, lat/lon, city name\n",
    "        type_: str\n",
    "            current or future or history\n",
    "        '''\n",
    "        api_key = \"4216ca74f3d1478dbbd154714212001\"\n",
    "\n",
    "        params = {\n",
    "            'key':api_key,\n",
    "            'q':location\n",
    "        }\n",
    "\n",
    "        if type_ == 'current':\n",
    "            url = 'https://api.weatherapi.com/v1/current.json'\n",
    "        elif type_ == 'future':\n",
    "            url = 'https://api.weatherapi.com/v1/forecast.json'\n",
    "            params['days'] = 3 # max forecast for free account\n",
    "        elif type_ == 'history':\n",
    "            url = 'https://api.weatherapi.com/v1/history.json'\n",
    "            self.history(url, params)\n",
    "            return\n",
    "            \n",
    "        response = r.get(url = url, params = params)\n",
    "        self.response = response.json()\n",
    "\n",
    "        if type_ == 'future':\n",
    "            self.forecast()\n",
    "        \n",
    "    def date_lister(self):\n",
    "        '''\n",
    "        Returns list of 7 properly formatted dates\n",
    "        '''\n",
    "        historic_dates = []\n",
    "        \n",
    "        for i in range(1,8):\n",
    "            new_date = dt.datetime.now() - dt.timedelta(days=i) # max history for free account\n",
    "            historic_dates.append(new_date.strftime('%Y-%m-%d'))\n",
    "        \n",
    "        return historic_dates\n",
    "    \n",
    "    def forecast(self):\n",
    "        '''\n",
    "        Gets the forecast, calculates mean temp\n",
    "        '''\n",
    "        temps = []\n",
    "        all_forecast = self.response['forecast']['forecastday']\n",
    "        for day in all_forecast:\n",
    "            temp = day['day']['avgtemp_f'] # get avg temp for day\n",
    "            temps.append(temp)\n",
    "        \n",
    "        self.all_temps = temps\n",
    "        self.mean_temp = np.mean(temps)\n",
    "        \n",
    "    def history(self, url, params):\n",
    "        '''\n",
    "        Gets historic weather, calculates mean temp\n",
    "        \n",
    "        input\n",
    "        -----\n",
    "        url: str\n",
    "            Api url\n",
    "        params: dict\n",
    "            Constructed params, without date\n",
    "            \n",
    "        output\n",
    "        ------\n",
    "        self.historic: pd.DataFrame\n",
    "            Dataframe of dates and temp in F\n",
    "        '''\n",
    "        temps = []\n",
    "        date_list = self.date_lister()\n",
    "        \n",
    "        all_responses = []\n",
    "        for date in date_list:\n",
    "            params['dt'] = date\n",
    "            response = r.get(url=url, params=params)\n",
    "            all_responses.append(response.json())\n",
    "        \n",
    "        extracted = {}\n",
    "        for i in range(len(all_responses)):\n",
    "            selected = all_responses[i]['forecast']['forecastday'][0] # all info for selected day\n",
    "            day = selected['day'] # temp stats for the day    \n",
    "            extracted[selected['date']] = [day['avgtemp_f'],day['mintemp_f'],day['maxtemp_f']]\n",
    "            \n",
    "        df = pd.DataFrame(extracted).T.reset_index()\n",
    "        df.columns = ['date','avg_temp_f','min_temp_f','max_temp_f']\n",
    "        self.historic = df "
   ]
  },
  {
   "cell_type": "code",
   "execution_count": 179,
   "metadata": {},
   "outputs": [],
   "source": [
    "w = weatherAnalysis(44224, type_='history')"
   ]
  },
  {
   "cell_type": "code",
   "execution_count": 181,
   "metadata": {},
   "outputs": [
    {
     "data": {
      "text/plain": [
       "32.17142857142857"
      ]
     },
     "execution_count": 181,
     "metadata": {},
     "output_type": "execute_result"
    }
   ],
   "source": [
    "w.historic.avg_temp_f.mean()"
   ]
  },
  {
   "cell_type": "code",
   "execution_count": null,
   "metadata": {},
   "outputs": [],
   "source": []
  }
 ],
 "metadata": {
  "kernelspec": {
   "display_name": "Mess Env",
   "language": "python",
   "name": "python3"
  },
  "language_info": {
   "codemirror_mode": {
    "name": "ipython",
    "version": 3
   },
   "file_extension": ".py",
   "mimetype": "text/x-python",
   "name": "python",
   "nbconvert_exporter": "python",
   "pygments_lexer": "ipython3",
   "version": "3.6.12"
  }
 },
 "nbformat": 4,
 "nbformat_minor": 4
}
